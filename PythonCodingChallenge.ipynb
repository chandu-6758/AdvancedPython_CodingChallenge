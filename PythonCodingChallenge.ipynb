{
 "cells": [
  {
   "cell_type": "code",
   "execution_count": 5,
   "id": "c6f2358b-09c9-4869-8b82-3459b3e24684",
   "metadata": {},
   "outputs": [],
   "source": [
    "import pandas as pd"
   ]
  },
  {
   "cell_type": "code",
   "execution_count": 121,
   "id": "4e56bdf9-ea8d-44fd-998e-2ded03614683",
   "metadata": {},
   "outputs": [
    {
     "data": {
      "text/html": [
       "<div>\n",
       "<style scoped>\n",
       "    .dataframe tbody tr th:only-of-type {\n",
       "        vertical-align: middle;\n",
       "    }\n",
       "\n",
       "    .dataframe tbody tr th {\n",
       "        vertical-align: top;\n",
       "    }\n",
       "\n",
       "    .dataframe thead th {\n",
       "        text-align: right;\n",
       "    }\n",
       "</style>\n",
       "<table border=\"1\" class=\"dataframe\">\n",
       "  <thead>\n",
       "    <tr style=\"text-align: right;\">\n",
       "      <th></th>\n",
       "      <th>Bounces</th>\n",
       "      <th>Exits</th>\n",
       "      <th>Continent</th>\n",
       "      <th>Sourcegroup</th>\n",
       "      <th>Timeinpage</th>\n",
       "      <th>Uniquepageviews</th>\n",
       "      <th>Visits</th>\n",
       "      <th>BouncesNew</th>\n",
       "    </tr>\n",
       "  </thead>\n",
       "  <tbody>\n",
       "    <tr>\n",
       "      <th>0</th>\n",
       "      <td>0</td>\n",
       "      <td>0</td>\n",
       "      <td>OC</td>\n",
       "      <td>(direct)</td>\n",
       "      <td>18</td>\n",
       "      <td>1</td>\n",
       "      <td>0</td>\n",
       "      <td>0.00</td>\n",
       "    </tr>\n",
       "    <tr>\n",
       "      <th>1</th>\n",
       "      <td>0</td>\n",
       "      <td>0</td>\n",
       "      <td>N.America</td>\n",
       "      <td>(direct)</td>\n",
       "      <td>4</td>\n",
       "      <td>1</td>\n",
       "      <td>0</td>\n",
       "      <td>0.00</td>\n",
       "    </tr>\n",
       "    <tr>\n",
       "      <th>2</th>\n",
       "      <td>0</td>\n",
       "      <td>0</td>\n",
       "      <td>N.America</td>\n",
       "      <td>Others</td>\n",
       "      <td>35</td>\n",
       "      <td>1</td>\n",
       "      <td>0</td>\n",
       "      <td>0.00</td>\n",
       "    </tr>\n",
       "    <tr>\n",
       "      <th>3</th>\n",
       "      <td>0</td>\n",
       "      <td>0</td>\n",
       "      <td>N.America</td>\n",
       "      <td>public.tableausoftware.com</td>\n",
       "      <td>70</td>\n",
       "      <td>1</td>\n",
       "      <td>0</td>\n",
       "      <td>0.00</td>\n",
       "    </tr>\n",
       "    <tr>\n",
       "      <th>4</th>\n",
       "      <td>0</td>\n",
       "      <td>0</td>\n",
       "      <td>N.America</td>\n",
       "      <td>public.tableausoftware.com</td>\n",
       "      <td>81</td>\n",
       "      <td>1</td>\n",
       "      <td>0</td>\n",
       "      <td>0.00</td>\n",
       "    </tr>\n",
       "    <tr>\n",
       "      <th>...</th>\n",
       "      <td>...</td>\n",
       "      <td>...</td>\n",
       "      <td>...</td>\n",
       "      <td>...</td>\n",
       "      <td>...</td>\n",
       "      <td>...</td>\n",
       "      <td>...</td>\n",
       "      <td>...</td>\n",
       "    </tr>\n",
       "    <tr>\n",
       "      <th>32104</th>\n",
       "      <td>1</td>\n",
       "      <td>1</td>\n",
       "      <td>N.America</td>\n",
       "      <td>public.tableausoftware.com</td>\n",
       "      <td>12</td>\n",
       "      <td>2</td>\n",
       "      <td>2</td>\n",
       "      <td>0.01</td>\n",
       "    </tr>\n",
       "    <tr>\n",
       "      <th>32105</th>\n",
       "      <td>2</td>\n",
       "      <td>2</td>\n",
       "      <td>N.America</td>\n",
       "      <td>(direct)</td>\n",
       "      <td>0</td>\n",
       "      <td>2</td>\n",
       "      <td>2</td>\n",
       "      <td>0.02</td>\n",
       "    </tr>\n",
       "    <tr>\n",
       "      <th>32106</th>\n",
       "      <td>2</td>\n",
       "      <td>2</td>\n",
       "      <td>N.America</td>\n",
       "      <td>(direct)</td>\n",
       "      <td>0</td>\n",
       "      <td>2</td>\n",
       "      <td>2</td>\n",
       "      <td>0.02</td>\n",
       "    </tr>\n",
       "    <tr>\n",
       "      <th>32107</th>\n",
       "      <td>2</td>\n",
       "      <td>2</td>\n",
       "      <td>N.America</td>\n",
       "      <td>(direct)</td>\n",
       "      <td>0</td>\n",
       "      <td>2</td>\n",
       "      <td>2</td>\n",
       "      <td>0.02</td>\n",
       "    </tr>\n",
       "    <tr>\n",
       "      <th>32108</th>\n",
       "      <td>2</td>\n",
       "      <td>2</td>\n",
       "      <td>N.America</td>\n",
       "      <td>google</td>\n",
       "      <td>0</td>\n",
       "      <td>2</td>\n",
       "      <td>2</td>\n",
       "      <td>0.02</td>\n",
       "    </tr>\n",
       "  </tbody>\n",
       "</table>\n",
       "<p>32109 rows × 8 columns</p>\n",
       "</div>"
      ],
      "text/plain": [
       "       Bounces  Exits  Continent                 Sourcegroup  Timeinpage  \\\n",
       "0            0      0         OC                    (direct)          18   \n",
       "1            0      0  N.America                    (direct)           4   \n",
       "2            0      0  N.America                      Others          35   \n",
       "3            0      0  N.America  public.tableausoftware.com          70   \n",
       "4            0      0  N.America  public.tableausoftware.com          81   \n",
       "...        ...    ...        ...                         ...         ...   \n",
       "32104        1      1  N.America  public.tableausoftware.com          12   \n",
       "32105        2      2  N.America                    (direct)           0   \n",
       "32106        2      2  N.America                    (direct)           0   \n",
       "32107        2      2  N.America                    (direct)           0   \n",
       "32108        2      2  N.America                      google           0   \n",
       "\n",
       "       Uniquepageviews  Visits  BouncesNew  \n",
       "0                    1       0        0.00  \n",
       "1                    1       0        0.00  \n",
       "2                    1       0        0.00  \n",
       "3                    1       0        0.00  \n",
       "4                    1       0        0.00  \n",
       "...                ...     ...         ...  \n",
       "32104                2       2        0.01  \n",
       "32105                2       2        0.02  \n",
       "32106                2       2        0.02  \n",
       "32107                2       2        0.02  \n",
       "32108                2       2        0.02  \n",
       "\n",
       "[32109 rows x 8 columns]"
      ]
     },
     "execution_count": 121,
     "metadata": {},
     "output_type": "execute_result"
    }
   ],
   "source": [
    "data= pd.read_excel('C:\\\\Users\\\\chand\\\\Downloads\\\\WebdataAnalysis.xlsx')\n",
    "data\n"
   ]
  },
  {
   "cell_type": "code",
   "execution_count": 188,
   "id": "c54f00b1-059a-4011-ab76-2708ca09b3f9",
   "metadata": {},
   "outputs": [
    {
     "data": {
      "text/html": [
       "<div>\n",
       "<style scoped>\n",
       "    .dataframe tbody tr th:only-of-type {\n",
       "        vertical-align: middle;\n",
       "    }\n",
       "\n",
       "    .dataframe tbody tr th {\n",
       "        vertical-align: top;\n",
       "    }\n",
       "\n",
       "    .dataframe thead th {\n",
       "        text-align: right;\n",
       "    }\n",
       "</style>\n",
       "<table border=\"1\" class=\"dataframe\">\n",
       "  <thead>\n",
       "    <tr style=\"text-align: right;\">\n",
       "      <th></th>\n",
       "      <th>Bounces</th>\n",
       "      <th>Exits</th>\n",
       "      <th>Timeinpage</th>\n",
       "      <th>Uniquepageviews</th>\n",
       "      <th>Visits</th>\n",
       "      <th>BouncesNew</th>\n",
       "    </tr>\n",
       "  </thead>\n",
       "  <tbody>\n",
       "    <tr>\n",
       "      <th>count</th>\n",
       "      <td>32109.000000</td>\n",
       "      <td>32109.000000</td>\n",
       "      <td>32109.000000</td>\n",
       "      <td>32109.000000</td>\n",
       "      <td>32109.000000</td>\n",
       "      <td>32109.000000</td>\n",
       "    </tr>\n",
       "    <tr>\n",
       "      <th>mean</th>\n",
       "      <td>0.713009</td>\n",
       "      <td>0.906039</td>\n",
       "      <td>73.184746</td>\n",
       "      <td>1.114329</td>\n",
       "      <td>0.906039</td>\n",
       "      <td>0.007130</td>\n",
       "    </tr>\n",
       "    <tr>\n",
       "      <th>std</th>\n",
       "      <td>0.708215</td>\n",
       "      <td>0.695819</td>\n",
       "      <td>394.441111</td>\n",
       "      <td>0.614880</td>\n",
       "      <td>0.730068</td>\n",
       "      <td>0.007082</td>\n",
       "    </tr>\n",
       "    <tr>\n",
       "      <th>min</th>\n",
       "      <td>0.000000</td>\n",
       "      <td>0.000000</td>\n",
       "      <td>0.000000</td>\n",
       "      <td>1.000000</td>\n",
       "      <td>0.000000</td>\n",
       "      <td>0.000000</td>\n",
       "    </tr>\n",
       "    <tr>\n",
       "      <th>25%</th>\n",
       "      <td>0.000000</td>\n",
       "      <td>1.000000</td>\n",
       "      <td>0.000000</td>\n",
       "      <td>1.000000</td>\n",
       "      <td>1.000000</td>\n",
       "      <td>0.000000</td>\n",
       "    </tr>\n",
       "    <tr>\n",
       "      <th>50%</th>\n",
       "      <td>1.000000</td>\n",
       "      <td>1.000000</td>\n",
       "      <td>0.000000</td>\n",
       "      <td>1.000000</td>\n",
       "      <td>1.000000</td>\n",
       "      <td>0.010000</td>\n",
       "    </tr>\n",
       "    <tr>\n",
       "      <th>75%</th>\n",
       "      <td>1.000000</td>\n",
       "      <td>1.000000</td>\n",
       "      <td>10.000000</td>\n",
       "      <td>1.000000</td>\n",
       "      <td>1.000000</td>\n",
       "      <td>0.010000</td>\n",
       "    </tr>\n",
       "    <tr>\n",
       "      <th>max</th>\n",
       "      <td>30.000000</td>\n",
       "      <td>36.000000</td>\n",
       "      <td>46745.000000</td>\n",
       "      <td>45.000000</td>\n",
       "      <td>45.000000</td>\n",
       "      <td>0.300000</td>\n",
       "    </tr>\n",
       "  </tbody>\n",
       "</table>\n",
       "</div>"
      ],
      "text/plain": [
       "            Bounces         Exits    Timeinpage  Uniquepageviews  \\\n",
       "count  32109.000000  32109.000000  32109.000000     32109.000000   \n",
       "mean       0.713009      0.906039     73.184746         1.114329   \n",
       "std        0.708215      0.695819    394.441111         0.614880   \n",
       "min        0.000000      0.000000      0.000000         1.000000   \n",
       "25%        0.000000      1.000000      0.000000         1.000000   \n",
       "50%        1.000000      1.000000      0.000000         1.000000   \n",
       "75%        1.000000      1.000000     10.000000         1.000000   \n",
       "max       30.000000     36.000000  46745.000000        45.000000   \n",
       "\n",
       "             Visits    BouncesNew  \n",
       "count  32109.000000  32109.000000  \n",
       "mean       0.906039      0.007130  \n",
       "std        0.730068      0.007082  \n",
       "min        0.000000      0.000000  \n",
       "25%        1.000000      0.000000  \n",
       "50%        1.000000      0.010000  \n",
       "75%        1.000000      0.010000  \n",
       "max       45.000000      0.300000  "
      ]
     },
     "execution_count": 188,
     "metadata": {},
     "output_type": "execute_result"
    }
   ],
   "source": [
    "data.describe()"
   ]
  },
  {
   "cell_type": "code",
   "execution_count": 126,
   "id": "d3ec7f6d-3d6f-441d-8ff3-a63db96bd5ca",
   "metadata": {},
   "outputs": [
    {
     "name": "stdout",
     "output_type": "stream",
     "text": [
      "<class 'pandas.core.frame.DataFrame'>\n",
      "RangeIndex: 32109 entries, 0 to 32108\n",
      "Data columns (total 8 columns):\n",
      " #   Column           Non-Null Count  Dtype  \n",
      "---  ------           --------------  -----  \n",
      " 0   Bounces          32109 non-null  int64  \n",
      " 1   Exits            32109 non-null  int64  \n",
      " 2   Continent        32109 non-null  object \n",
      " 3   Sourcegroup      32109 non-null  object \n",
      " 4   Timeinpage       32109 non-null  int64  \n",
      " 5   Uniquepageviews  32109 non-null  int64  \n",
      " 6   Visits           32109 non-null  int64  \n",
      " 7   BouncesNew       32109 non-null  float64\n",
      "dtypes: float64(1), int64(5), object(2)\n",
      "memory usage: 2.0+ MB\n"
     ]
    }
   ],
   "source": [
    "data.info()"
   ]
  },
  {
   "cell_type": "code",
   "execution_count": 250,
   "id": "84bbd037-fc40-46fd-898c-0557b2dc6a78",
   "metadata": {},
   "outputs": [
    {
     "data": {
      "text/plain": [
       "Bounces              int64\n",
       "Exits                int64\n",
       "Continent           object\n",
       "Sourcegroup         object\n",
       "Timeinpage           int64\n",
       "Uniquepageviews      int64\n",
       "Visits               int64\n",
       "BouncesNew         float64\n",
       "dtype: object"
      ]
     },
     "execution_count": 250,
     "metadata": {},
     "output_type": "execute_result"
    }
   ],
   "source": [
    "data.dtypes"
   ]
  },
  {
   "cell_type": "code",
   "execution_count": 264,
   "id": "0650d67b-b6e9-4dcc-a274-dfa7572058c2",
   "metadata": {},
   "outputs": [
    {
     "data": {
      "text/plain": [
       "count    32109.000000\n",
       "mean         0.906039\n",
       "std          0.730068\n",
       "min          0.000000\n",
       "25%          1.000000\n",
       "50%          1.000000\n",
       "75%          1.000000\n",
       "max         45.000000\n",
       "Name: Visits, dtype: float64"
      ]
     },
     "execution_count": 264,
     "metadata": {},
     "output_type": "execute_result"
    }
   ],
   "source": [
    "#data['Bounces'].describe()\n",
    "#data['Continent'].describe()\n",
    "#data['Sourcegroup'].describe()\n",
    "#data['Timeinpage'].describe()\n",
    "#data['Uniquepageviews'].describe()\n",
    "data['Visits'].describe()"
   ]
  },
  {
   "cell_type": "code",
   "execution_count": 194,
   "id": "7a469bf7-9a55-4326-ac17-d8062089db78",
   "metadata": {},
   "outputs": [
    {
     "name": "stdout",
     "output_type": "stream",
     "text": [
      "0.8144457070734599\n"
     ]
    }
   ],
   "source": [
    "#coefficient between Uniquepageviews and Visits\n",
    "corr_coef = data['Uniquepageviews'].corr(data['Visits'])\n",
    "\n",
    "print(corr_coef)\n"
   ]
  },
  {
   "cell_type": "code",
   "execution_count": 270,
   "id": "b5c807ed-281a-4fab-aefd-9917bccdc9ab",
   "metadata": {},
   "outputs": [
    {
     "data": {
      "image/png": "[encoded data removed]",
      "text/plain": [
       "<Figure size 500x500 with 1 Axes>"
      ]
     },
     "metadata": {},
     "output_type": "display_data"
    }
   ],
   "source": [
    "# Create a scatter plot to visualize the relationship\n",
    "import matplotlib.pyplot as plt\n",
    "import seaborn as sns\n",
    "plt.figure(figsize=(5, 5))\n",
    "plt.scatter(x='Visits', y='Uniquepageviews', data=data)\n",
    "plt.xlabel('Visits')\n",
    "plt.ylabel('Unique Page Views')\n",
    "plt.title('Relationship between Unique Page Views and Visits')\n",
    "plt.show()"
   ]
  },
  {
   "cell_type": "code",
   "execution_count": 206,
   "id": "e805ce9b-71b3-4af7-b094-893728df0d7a",
   "metadata": {},
   "outputs": [
    {
     "data": {
      "text/html": [
       "<div>\n",
       "<style scoped>\n",
       "    .dataframe tbody tr th:only-of-type {\n",
       "        vertical-align: middle;\n",
       "    }\n",
       "\n",
       "    .dataframe tbody tr th {\n",
       "        vertical-align: top;\n",
       "    }\n",
       "\n",
       "    .dataframe thead th {\n",
       "        text-align: right;\n",
       "    }\n",
       "</style>\n",
       "<table border=\"1\" class=\"dataframe\">\n",
       "  <thead>\n",
       "    <tr style=\"text-align: right;\">\n",
       "      <th></th>\n",
       "      <th>Exits</th>\n",
       "      <th>Timeinpage</th>\n",
       "      <th>Visits</th>\n",
       "      <th>Uniquepageviews</th>\n",
       "      <th>Bounces</th>\n",
       "    </tr>\n",
       "  </thead>\n",
       "  <tbody>\n",
       "    <tr>\n",
       "      <th>Exits</th>\n",
       "      <td>1.000000</td>\n",
       "      <td>0.001325</td>\n",
       "      <td>0.800979</td>\n",
       "      <td>0.791129</td>\n",
       "      <td>0.824912</td>\n",
       "    </tr>\n",
       "    <tr>\n",
       "      <th>Timeinpage</th>\n",
       "      <td>0.001325</td>\n",
       "      <td>1.000000</td>\n",
       "      <td>0.066650</td>\n",
       "      <td>0.114593</td>\n",
       "      <td>-0.109106</td>\n",
       "    </tr>\n",
       "    <tr>\n",
       "      <th>Visits</th>\n",
       "      <td>0.800979</td>\n",
       "      <td>0.066650</td>\n",
       "      <td>1.000000</td>\n",
       "      <td>0.814446</td>\n",
       "      <td>0.819343</td>\n",
       "    </tr>\n",
       "    <tr>\n",
       "      <th>Uniquepageviews</th>\n",
       "      <td>0.791129</td>\n",
       "      <td>0.114593</td>\n",
       "      <td>0.814446</td>\n",
       "      <td>1.000000</td>\n",
       "      <td>0.659101</td>\n",
       "    </tr>\n",
       "    <tr>\n",
       "      <th>Bounces</th>\n",
       "      <td>0.824912</td>\n",
       "      <td>-0.109106</td>\n",
       "      <td>0.819343</td>\n",
       "      <td>0.659101</td>\n",
       "      <td>1.000000</td>\n",
       "    </tr>\n",
       "  </tbody>\n",
       "</table>\n",
       "</div>"
      ],
      "text/plain": [
       "                    Exits  Timeinpage    Visits  Uniquepageviews   Bounces\n",
       "Exits            1.000000    0.001325  0.800979         0.791129  0.824912\n",
       "Timeinpage       0.001325    1.000000  0.066650         0.114593 -0.109106\n",
       "Visits           0.800979    0.066650  1.000000         0.814446  0.819343\n",
       "Uniquepageviews  0.791129    0.114593  0.814446         1.000000  0.659101\n",
       "Bounces          0.824912   -0.109106  0.819343         0.659101  1.000000"
      ]
     },
     "execution_count": 206,
     "metadata": {},
     "output_type": "execute_result"
    }
   ],
   "source": [
    "correlation_matrix = data[['Exits','Timeinpage', 'Visits', 'Uniquepageviews', 'Bounces']].corr()\n",
    "correlation_matrix\n"
   ]
  },
  {
   "cell_type": "code",
   "execution_count": 278,
   "id": "728267f1-e610-4211-8393-871fef73d529",
   "metadata": {},
   "outputs": [
    {
     "name": "stdout",
     "output_type": "stream",
     "text": [
      "Exits has a strong positive relationship with: Visits\n",
      "Exits has a strong positive relationship with: Uniquepageviews\n",
      "Exits has a strong positive relationship with: Bounces\n"
     ]
    }
   ],
   "source": [
    "correlation_matrix = data[['Exits','Timeinpage', 'Visits', 'Uniquepageviews', 'Bounces']].corr()\n",
    "for column in correlation_matrix.columns:\n",
    "    if column != 'Exits':  \n",
    "        if correlation_matrix.loc['Exits', column] >0.6:\n",
    "            print(f\"Exits has a strong positive relationship with: {column}\")"
   ]
  },
  {
   "cell_type": "code",
   "execution_count": 268,
   "id": "8f58fccd-e9be-44ca-ab11-5e5d8d544e60",
   "metadata": {},
   "outputs": [
    {
     "data": {
      "image/png": "[encoded data removed]",
      "text/plain": [
       "<Figure size 1000x600 with 2 Axes>"
      ]
     },
     "metadata": {},
     "output_type": "display_data"
    }
   ],
   "source": [
    "plt.figure(figsize=(10, 6))\n",
    "sns.heatmap(Exits.to_frame(), annot=True, cmap='coolwarm', square=True)\n",
    "plt.title('Correlations between Exits and other numeric columns')\n",
    "plt.show()\n"
   ]
  },
  {
   "cell_type": "code",
   "execution_count": 246,
   "id": "606a2516-fa5b-40db-ae91-c60b0f4536b7",
   "metadata": {},
   "outputs": [
    {
     "name": "stdout",
     "output_type": "stream",
     "text": [
      "Nothing is affecting Time in page\n"
     ]
    }
   ],
   "source": [
    "correlation_matrix = data[['Exits','Timeinpage', 'Visits', 'Uniquepageviews', 'Bounces']].corr()\n",
    "for column in correlation_matrix.columns:\n",
    "    if column != 'Timeinpage':  \n",
    "        if correlation_matrix.loc['Timeinpage', column] >0.6:\n",
    "            print(f\"Timeinpage has a strong positive relationship with: {column}\")\n",
    "    else:\n",
    "            print(\"Nothing is affecting Time in page\")"
   ]
  },
  {
   "cell_type": "code",
   "execution_count": 230,
   "id": "035fb217-01df-44a7-8256-534fef451564",
   "metadata": {},
   "outputs": [
    {
     "data": {
      "image/png": "[encoded data removed]",
      "text/plain": [
       "<Figure size 1000x600 with 2 Axes>"
      ]
     },
     "metadata": {},
     "output_type": "display_data"
    }
   ],
   "source": [
    "plt.figure(figsize=(10, 6))\n",
    "sns.heatmap(Time_in_Page.to_frame(), annot=True, cmap='coolwarm', square=True)\n",
    "plt.title('Correlations between Time in Page and other numeric columns')\n",
    "plt.show()"
   ]
  },
  {
   "cell_type": "code",
   "execution_count": 276,
   "id": "9e08f84e-3217-4b1c-ab64-bcd504f3063e",
   "metadata": {},
   "outputs": [
    {
     "name": "stdout",
     "output_type": "stream",
     "text": [
      "Bounces has a strong positive relationship with: Exits\n",
      "Bounces has a strong positive relationship with: Visits\n",
      "Bounces has a strong positive relationship with: Uniquepageviews\n"
     ]
    }
   ],
   "source": [
    "correlation_matrix = data[['Exits','Timeinpage', 'Visits', 'Uniquepageviews', 'Bounces']].corr()\n",
    "for column in correlation_matrix.columns:\n",
    "    if column != 'Bounces':  \n",
    "        if correlation_matrix.loc['Bounces', column] >0.6:\n",
    "            print(f\"Bounces has a strong positive relationship with: {column}\")"
   ]
  },
  {
   "cell_type": "code",
   "execution_count": 220,
   "id": "c7a01759-9162-457e-88fc-a8de9df80405",
   "metadata": {},
   "outputs": [
    {
     "data": {
      "image/png": "[encoded data removed]",
      "text/plain": [
       "<Figure size 1000x600 with 2 Axes>"
      ]
     },
     "metadata": {},
     "output_type": "display_data"
    }
   ],
   "source": [
    "plt.figure(figsize=(10, 6))\n",
    "sns.heatmap(Bounce.to_frame(), annot=True, cmap='coolwarm', square=True)\n",
    "plt.title('Correlations between Bounces and other numeric columns')\n",
    "plt.show()"
   ]
  }
 ],
 "metadata": {
  "kernelspec": {
   "display_name": "Python 3 (ipykernel)",
   "language": "python",
   "name": "python3"
  },
  "language_info": {
   "codemirror_mode": {
    "name": "ipython",
    "version": 3
   },
   "file_extension": ".py",
   "mimetype": "text/x-python",
   "name": "python",
   "nbconvert_exporter": "python",
   "pygments_lexer": "ipython3",
   "version": "3.12.7"
  }
 },
 "nbformat": 4,
 "nbformat_minor": 5
}
